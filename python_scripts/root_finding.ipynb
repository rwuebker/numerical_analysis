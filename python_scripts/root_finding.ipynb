{
 "cells": [
  {
   "cell_type": "markdown",
   "metadata": {},
   "source": [
    "# Part I. Root-finding. Newton's iteration."
   ]
  },
  {
   "cell_type": "markdown",
   "metadata": {},
   "source": [
    "Write a function which performs Newton's iteration for a given function $f(x)$ with known derivative $f'(x)$. Your function should find the root of $f(x)$ with a predefined absolute accuracy $\\epsilon$. "
   ]
  },
  {
   "cell_type": "code",
   "execution_count": 1,
   "metadata": {},
   "outputs": [],
   "source": [
    "def newton_iteration(f, fder, x0, eps=1e-5, maxiter=1000):\n",
    "    \"\"\"Find a root of $f(x) = 0$ via Newton's iteration starting from x0.\n",
    "    \n",
    "    Parameters\n",
    "    ----------\n",
    "    f : callable\n",
    "        The function to find a root of.\n",
    "    fder : callable\n",
    "        The derivative of `f`.\n",
    "    x0 : float\n",
    "        Initial value for the Newton's iteration.\n",
    "    eps : float\n",
    "        The target accuracy. \n",
    "        The iteration stops when the distance between successive iterates is below `eps`.\n",
    "        Default is 1e-5.\n",
    "    maxiter : int\n",
    "        The maximum number of iterations (default is 1000.)\n",
    "        Iterations terminate if the number of iterations exceeds `maxiter`.\n",
    "        This parameter is only needed to avoid infinite loops if iterations wander off.\n",
    "        \n",
    "    Returns\n",
    "    -------\n",
    "    x : float\n",
    "        The estimate for the root.\n",
    "    niter : int\n",
    "        The number of iterations.\n",
    "    \"\"\"\n",
    "    # ... ENTER YOUR CODE HERE ...\n",
    "    xn = x0\n",
    "    for n in range(0, maxiter):\n",
    "        fxn = f(xn)\n",
    "        if abs(fxn) < eps:\n",
    "            print('Found solution after',n,'iterations.')\n",
    "            return xn\n",
    "        Dfxn = fder(xn)\n",
    "        if Dfxn == 0:\n",
    "            print('Zero derivative. No solution found.')\n",
    "            return None\n",
    "        xn = xn - fxn/Dfxn\n",
    "    print('Exceeded maximum iterations. No solution found.')\n",
    "    return None"
   ]
  },
  {
   "cell_type": "markdown",
   "metadata": {},
   "source": [
    "### Test I.1 \n",
    "\n",
    "Test your implementation on a simple example, $f(x) = x^2 - 1$ or similar. (20% of the total grade)"
   ]
  },
  {
   "cell_type": "code",
   "execution_count": 16,
   "metadata": {},
   "outputs": [
    {
     "name": "stdout",
     "output_type": "stream",
     "text": [
      "Found solution after 4 iterations.\n"
     ]
    },
    {
     "data": {
      "text/plain": [
       "1.0000000464611474"
      ]
     },
     "execution_count": 16,
     "metadata": {},
     "output_type": "execute_result"
    }
   ],
   "source": [
    "import numpy as np\n",
    "\n",
    "def func(x):\n",
    "    return np.square(x) - 1\n",
    "\n",
    "def dfunc(x):\n",
    "    return 2*x\n",
    "\n",
    "root = newton_iteration(func, dfunc, 0.5, 1e-5)\n",
    "root"
   ]
  },
  {
   "cell_type": "markdown",
   "metadata": {},
   "source": [
    "### Test I.2\n",
    "\n",
    "Now consider a function which has a multiple root. Take $f(x) = (x^2 - 1)^2$ as an example. Implement a modified Newton's iteraion,\n",
    "\n",
    "$$\n",
    "x_{n+1} = x_{n} - m \\frac{f(x_n)}{f'(x_n)}\n",
    "$$\n",
    "\n",
    "and vary $m= 1, 2, 3, 4, 5$. Check the number of iterations required for convergence within a fixed $\\epsilon$. Are your observations consistent with the expectation that the convergence is quadratic is $m$ equals the multiplicity of the root, and is linear otherwise? (40% of the total grade)"
   ]
  },
  {
   "cell_type": "code",
   "execution_count": 26,
   "metadata": {},
   "outputs": [],
   "source": [
    "def mod_func(x):\n",
    "    return np.square(np.square(x) - 1)\n",
    "\n",
    "def mod_dfunc(x):\n",
    "    return 4*(x**3) - 4*x\n",
    "\n",
    "def modified_newton_iteration(f, fder, x0, eps=1e-5, maxiter=1000, m=1):\n",
    "    \"\"\"Find a root of $f(x) = 0$ via Newton's iteration starting from x0.\n",
    "    \n",
    "    Parameters\n",
    "    ----------\n",
    "    f : callable\n",
    "        The function to find a root of.\n",
    "    fder : callable\n",
    "        The derivative of `f`.\n",
    "    x0 : float\n",
    "        Initial value for the Newton's iteration.\n",
    "    eps : float\n",
    "        The target accuracy. \n",
    "        The iteration stops when the distance between successive iterates is below `eps`.\n",
    "        Default is 1e-5.\n",
    "    maxiter : int\n",
    "        The maximum number of iterations (default is 1000.)\n",
    "        Iterations terminate if the number of iterations exceeds `maxiter`.\n",
    "        This parameter is only needed to avoid infinite loops if iterations wander off.\n",
    "        \n",
    "    Returns\n",
    "    -------\n",
    "    x : float\n",
    "        The estimate for the root.\n",
    "    niter : int\n",
    "        The number of iterations.\n",
    "    \"\"\"\n",
    "    # ... ENTER YOUR CODE HERE ...\n",
    "    xn = x0\n",
    "    for n in range(0, maxiter):\n",
    "        fxn = f(xn)\n",
    "        if abs(fxn) < eps:\n",
    "            print('Found solution after',n,'iterations.')\n",
    "            return xn\n",
    "        Dfxn = fder(xn)\n",
    "        if Dfxn == 0:\n",
    "            print('Zero derivative. No solution found.')\n",
    "            return None\n",
    "        xn = xn - m*fxn/Dfxn\n",
    "    print('Exceeded maximum iterations. No solution found.')\n",
    "    return None"
   ]
  },
  {
   "cell_type": "code",
   "execution_count": 32,
   "metadata": {},
   "outputs": [
    {
     "name": "stdout",
     "output_type": "stream",
     "text": [
      "Found solution after 14 iterations.\n",
      "Found solution after 4 iterations.\n",
      "Found solution after 9 iterations.\n",
      "Exceeded maximum iterations. No solution found.\n",
      "Found solution after 7233 iterations.\n"
     ]
    }
   ],
   "source": [
    "for i in range(1,6):\n",
    "    modified_newton_iteration(mod_func, mod_dfunc, 4.5, eps=1e-5, maxiter=10000, m=i)"
   ]
  },
  {
   "cell_type": "markdown",
   "metadata": {},
   "source": [
    "# Part II. Fixed-point iteration"
   ]
  },
  {
   "cell_type": "markdown",
   "metadata": {},
   "source": [
    "Consider the following equation:\n",
    "\n",
    "$$\n",
    "\\sqrt{x} = \\cos{x}\n",
    "$$\n",
    "\n",
    "Plot the left-hand side and right-hand side of this equation, and localize the root graphically. Estimate the location of the root by visual inspection of the plot.\n",
    "\n",
    "Write a function which finds the solution using fixed-point iteration up to a predefined accuracy $\\epsilon$. Compare the result to an estimate from a visual inspection.\n",
    "\n",
    "Next, rewrite the fixed-point problem in the form\n",
    "\n",
    "$$\n",
    "x = x - \\alpha f(x)\n",
    "$$\n",
    "\n",
    "where $\\alpha$ is the free parameter. Check the dependence of the number of iterations required for a given $\\epsilon$ on $\\alpha$. Compare your results to an expectation that the optimal value of $\\alpha$ is given by \n",
    "\n",
    "$$\n",
    "\\alpha = \\frac{2}{m + M}\n",
    "$$\n",
    "\n",
    "where $0 < m < |f'(x)| < M$ over the localization interval. (40% of the total grade)"
   ]
  },
  {
   "cell_type": "code",
   "execution_count": 2,
   "metadata": {},
   "outputs": [
    {
     "data": {
      "text/plain": [
       "<matplotlib.legend.Legend at 0x126d9f6d8>"
      ]
     },
     "execution_count": 2,
     "metadata": {},
     "output_type": "execute_result"
    },
    {
     "data": {
      "image/png": "[encoded data removed]",
      "text/plain": [
       "<Figure size 432x288 with 1 Axes>"
      ]
     },
     "metadata": {
      "needs_background": "light"
     },
     "output_type": "display_data"
    }
   ],
   "source": [
    "import matplotlib.pyplot as plt\n",
    "import seaborn as sns\n",
    "import numpy as np\n",
    "\n",
    "domain = np.linspace(0,np.pi, 1000)\n",
    "root_x = np.sqrt(domain)\n",
    "cos_x = np.cos(domain)\n",
    "fig, ax = plt.subplots()\n",
    "ax.plot(domain, root_x, label='root-x')\n",
    "ax.plot(domain, cos_x, label='cos-x')\n",
    "ax.axis('equal')\n",
    "ax.legend()"
   ]
  },
  {
   "cell_type": "markdown",
   "metadata": {},
   "source": [
    "# Part III. Newton's fractal.\n",
    "\n",
    "(Not graded). \n",
    "\n",
    "Consider the equation\n",
    "\n",
    "$$\n",
    "x^3 = 1\n",
    "$$\n",
    "\n",
    "It has three solutions in the complex plane, $x_k = \\exp(i\\, 2\\pi k/ 3)$, $k = 0, 1, 2$.\n",
    "\n",
    "The Newton's iterations converge to one of these solutions, depending on the starting point in the complex plane (to converge to a complex-valued solution, the iteration needs a complex-valued starting point).\n",
    "\n",
    "Plot the \\emph{basins of attraction} of these roots on the complex plane of $x$ (i.e., on the plane $\\mathrm{Re}x$ -- $\\mathrm{Im}x$). To this end, make a series of calculations, varying the initial conditions on a grid of points. \n",
    "Color the grid in three colors, according to the root, to which iterations converged."
   ]
  },
  {
   "cell_type": "code",
   "execution_count": 5,
   "metadata": {},
   "outputs": [
    {
     "data": {
      "text/plain": [
       "[<matplotlib.lines.Line2D at 0x126ed59e8>]"
      ]
     },
     "execution_count": 5,
     "metadata": {},
     "output_type": "execute_result"
    },
    {
     "data": {
      "image/png": "[encoded data removed]",
      "text/plain": [
       "<Figure size 432x288 with 1 Axes>"
      ]
     },
     "metadata": {
      "needs_background": "light"
     },
     "output_type": "display_data"
    }
   ],
   "source": [
    "def g(x):\n",
    "    return np.square(x)\n",
    "\n",
    "domain = np.linspace(0, 2, 100)\n",
    "x = g(domain)\n",
    "plt.plot(domain, x)"
   ]
  },
  {
   "cell_type": "code",
   "execution_count": 10,
   "metadata": {},
   "outputs": [
    {
     "name": "stdout",
     "output_type": "stream",
     "text": [
      "1.2100000000000002\n",
      "1.4641000000000004\n",
      "2.143588810000001\n",
      "4.594972986357221\n",
      "21.1137767453526\n",
      "445.7915684525922\n",
      "198730.12250342217\n",
      "39493661590.22518\n",
      "1.5597493058032278e+21\n",
      "2.432817896953651e+42\n",
      "5.918602919737985e+84\n",
      "3.5029860521531003e+169\n",
      "inf\n",
      "inf\n",
      "inf\n",
      "inf\n",
      "inf\n",
      "inf\n",
      "inf\n",
      "inf\n",
      "inf\n",
      "inf\n",
      "inf\n",
      "inf\n",
      "inf\n",
      "inf\n",
      "inf\n",
      "inf\n",
      "inf\n",
      "inf\n",
      "inf\n",
      "inf\n",
      "inf\n",
      "inf\n",
      "inf\n",
      "inf\n",
      "inf\n",
      "inf\n",
      "inf\n",
      "inf\n",
      "inf\n",
      "inf\n",
      "inf\n",
      "inf\n",
      "inf\n",
      "inf\n",
      "inf\n",
      "inf\n",
      "inf\n",
      "inf\n",
      "inf\n",
      "inf\n",
      "inf\n",
      "inf\n",
      "inf\n",
      "inf\n",
      "inf\n",
      "inf\n",
      "inf\n",
      "inf\n",
      "inf\n",
      "inf\n",
      "inf\n",
      "inf\n",
      "inf\n",
      "inf\n",
      "inf\n",
      "inf\n",
      "inf\n",
      "inf\n",
      "inf\n",
      "inf\n",
      "inf\n",
      "inf\n",
      "inf\n",
      "inf\n",
      "inf\n",
      "inf\n",
      "inf\n",
      "inf\n",
      "inf\n",
      "inf\n",
      "inf\n",
      "inf\n",
      "inf\n",
      "inf\n",
      "inf\n",
      "inf\n",
      "inf\n",
      "inf\n",
      "inf\n",
      "inf\n",
      "inf\n",
      "inf\n",
      "inf\n",
      "inf\n",
      "inf\n",
      "inf\n",
      "inf\n"
     ]
    },
    {
     "name": "stderr",
     "output_type": "stream",
     "text": [
      "/Users/richard.wuebker/.pyenv/versions/science/lib/python3.6/site-packages/ipykernel_launcher.py:2: RuntimeWarning: overflow encountered in square\n",
      "  \n"
     ]
    }
   ],
   "source": [
    "x = []\n",
    "x0 = 1.1\n",
    "x.append(x0)\n",
    "for i in range(1,100):\n",
    "    x0 = g(x0)\n",
    "    print(x0)\n",
    "    x.append(x0)\n",
    "    \n"
   ]
  },
  {
   "cell_type": "code",
   "execution_count": 8,
   "metadata": {},
   "outputs": [
    {
     "data": {
      "text/plain": [
       "[<matplotlib.lines.Line2D at 0x126fbf908>]"
      ]
     },
     "execution_count": 8,
     "metadata": {},
     "output_type": "execute_result"
    },
    {
     "data": {
      "image/png": "[encoded data removed]",
      "text/plain": [
       "<Figure size 432x288 with 1 Axes>"
      ]
     },
     "metadata": {
      "needs_background": "light"
     },
     "output_type": "display_data"
    }
   ],
   "source": [
    "plt.plot(domain, x)"
   ]
  },
  {
   "cell_type": "code",
   "execution_count": null,
   "metadata": {},
   "outputs": [],
   "source": []
  }
 ],
 "metadata": {
  "kernelspec": {
   "display_name": "Python 3",
   "language": "python",
   "name": "python3"
  },
  "language_info": {
   "codemirror_mode": {
    "name": "ipython",
    "version": 3
   },
   "file_extension": ".py",
   "mimetype": "text/x-python",
   "name": "python",
   "nbconvert_exporter": "python",
   "pygments_lexer": "ipython3",
   "version": "3.6.8"
  }
 },
 "nbformat": 4,
 "nbformat_minor": 2
}
